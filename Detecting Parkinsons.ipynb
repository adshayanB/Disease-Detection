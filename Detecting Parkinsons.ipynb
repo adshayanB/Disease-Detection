{
 "cells": [
  {
   "cell_type": "markdown",
   "metadata": {},
   "source": [
    "<h1> Import Libraries/Packages</h1>"
   ]
  },
  {
   "cell_type": "code",
   "execution_count": 3,
   "metadata": {},
   "outputs": [
    {
     "name": "stdout",
     "output_type": "stream",
     "text": [
      "Collecting xgboost\n",
      "  Using cached xgboost-1.0.1.tar.gz (820 kB)\n",
      "\u001b[31m    ERROR: Command errored out with exit status 1:\n",
      "     command: /Library/Frameworks/Python.framework/Versions/3.6/bin/python3 -c 'import sys, setuptools, tokenize; sys.argv[0] = '\"'\"'/private/var/folders/rq/4rqjbtjs0ws_68jmmgnt851m0000gp/T/pip-install-_h_irqcr/xgboost/setup.py'\"'\"'; __file__='\"'\"'/private/var/folders/rq/4rqjbtjs0ws_68jmmgnt851m0000gp/T/pip-install-_h_irqcr/xgboost/setup.py'\"'\"';f=getattr(tokenize, '\"'\"'open'\"'\"', open)(__file__);code=f.read().replace('\"'\"'\\r\\n'\"'\"', '\"'\"'\\n'\"'\"');f.close();exec(compile(code, __file__, '\"'\"'exec'\"'\"'))' egg_info --egg-base /private/var/folders/rq/4rqjbtjs0ws_68jmmgnt851m0000gp/T/pip-install-_h_irqcr/xgboost/pip-egg-info\n",
      "         cwd: /private/var/folders/rq/4rqjbtjs0ws_68jmmgnt851m0000gp/T/pip-install-_h_irqcr/xgboost/\n",
      "    Complete output (27 lines):\n",
      "    ++ pwd\n",
      "    + oldpath=/private/var/folders/rq/4rqjbtjs0ws_68jmmgnt851m0000gp/T/pip-install-_h_irqcr/xgboost\n",
      "    + cd ./xgboost/\n",
      "    + mkdir -p build\n",
      "    + cd build\n",
      "    + cmake ..\n",
      "    ./xgboost/build-python.sh: line 21: cmake: command not found\n",
      "    + echo -----------------------------\n",
      "    -----------------------------\n",
      "    + echo 'Building multi-thread xgboost failed'\n",
      "    Building multi-thread xgboost failed\n",
      "    + echo 'Start to build single-thread xgboost'\n",
      "    Start to build single-thread xgboost\n",
      "    + cmake .. -DUSE_OPENMP=0\n",
      "    ./xgboost/build-python.sh: line 27: cmake: command not found\n",
      "    Traceback (most recent call last):\n",
      "      File \"<string>\", line 1, in <module>\n",
      "      File \"/private/var/folders/rq/4rqjbtjs0ws_68jmmgnt851m0000gp/T/pip-install-_h_irqcr/xgboost/setup.py\", line 42, in <module>\n",
      "        LIB_PATH = libpath['find_lib_path']()\n",
      "      File \"/private/var/folders/rq/4rqjbtjs0ws_68jmmgnt851m0000gp/T/pip-install-_h_irqcr/xgboost/xgboost/libpath.py\", line 50, in find_lib_path\n",
      "        'List of candidates:\\n' + ('\\n'.join(dll_path)))\n",
      "    XGBoostLibraryNotFound: Cannot find XGBoost Library in the candidate path, did you install compilers and run build.sh in root path?\n",
      "    List of candidates:\n",
      "    /private/var/folders/rq/4rqjbtjs0ws_68jmmgnt851m0000gp/T/pip-install-_h_irqcr/xgboost/xgboost/libxgboost.dylib\n",
      "    /private/var/folders/rq/4rqjbtjs0ws_68jmmgnt851m0000gp/T/pip-install-_h_irqcr/xgboost/xgboost/../../lib/libxgboost.dylib\n",
      "    /private/var/folders/rq/4rqjbtjs0ws_68jmmgnt851m0000gp/T/pip-install-_h_irqcr/xgboost/xgboost/./lib/libxgboost.dylib\n",
      "    /Library/Frameworks/Python.framework/Versions/3.6/xgboost/libxgboost.dylib\n",
      "    ----------------------------------------\u001b[0m\n",
      "\u001b[31mERROR: Command errored out with exit status 1: python setup.py egg_info Check the logs for full command output.\u001b[0m\n"
     ]
    },
    {
     "ename": "ModuleNotFoundError",
     "evalue": "No module named 'xgboost'",
     "output_type": "error",
     "traceback": [
      "\u001b[0;31m---------------------------------------------------------------------------\u001b[0m",
      "\u001b[0;31mModuleNotFoundError\u001b[0m                       Traceback (most recent call last)",
      "\u001b[0;32m<ipython-input-3-1ee307675bed>\u001b[0m in \u001b[0;36m<module>\u001b[0;34m\u001b[0m\n\u001b[1;32m      9\u001b[0m \u001b[0;34m\u001b[0m\u001b[0m\n\u001b[1;32m     10\u001b[0m \u001b[0;32mfrom\u001b[0m \u001b[0msklearn\u001b[0m\u001b[0;34m.\u001b[0m\u001b[0mpreprocessing\u001b[0m \u001b[0;32mimport\u001b[0m \u001b[0mMinMaxScaler\u001b[0m\u001b[0;34m\u001b[0m\u001b[0m\n\u001b[0;32m---> 11\u001b[0;31m \u001b[0;32mfrom\u001b[0m \u001b[0mxgboost\u001b[0m \u001b[0;32mimport\u001b[0m \u001b[0mXGBClassifier\u001b[0m\u001b[0;34m\u001b[0m\u001b[0m\n\u001b[0m\u001b[1;32m     12\u001b[0m \u001b[0;32mfrom\u001b[0m \u001b[0msklearn\u001b[0m\u001b[0;34m.\u001b[0m\u001b[0mmodel_selection\u001b[0m \u001b[0;32mimport\u001b[0m \u001b[0mtrain_test_split\u001b[0m\u001b[0;34m\u001b[0m\u001b[0m\n\u001b[1;32m     13\u001b[0m \u001b[0;32mfrom\u001b[0m \u001b[0msklearn\u001b[0m\u001b[0;34m.\u001b[0m\u001b[0mmetrics\u001b[0m \u001b[0;32mimport\u001b[0m \u001b[0maccuracy_score\u001b[0m\u001b[0;34m\u001b[0m\u001b[0m\n",
      "\u001b[0;31mModuleNotFoundError\u001b[0m: No module named 'xgboost'"
     ]
    }
   ],
   "source": [
    "import numpy as np\n",
    "import pandas as pd\n",
    "import os, sys\n",
    "import sys\n",
    "!{sys.executable} -m pip install xgboost\n",
    "\n",
    "\n",
    "\n",
    "\n",
    "from sklearn.preprocessing import MinMaxScaler\n",
    "from xgboost import XGBClassifier\n",
    "from sklearn.model_selection import train_test_split\n",
    "from sklearn.metrics import accuracy_score\n",
    "\n",
    "\n"
   ]
  },
  {
   "cell_type": "markdown",
   "metadata": {},
   "source": [
    "<h1>Reading the Data Set</h1>"
   ]
  },
  {
   "cell_type": "code",
   "execution_count": null,
   "metadata": {},
   "outputs": [],
   "source": [
    "df = pd.read_csv ('parkinsons.data.csv')\n",
    "#df.head()\n",
    "df"
   ]
  },
  {
   "cell_type": "markdown",
   "metadata": {},
   "source": [
    "<h1>Get Values and Status</h1>"
   ]
  },
  {
   "cell_type": "code",
   "execution_count": null,
   "metadata": {},
   "outputs": [],
   "source": [
    "data =df.loc[:,df.columns!='status'].values[:,1:]\n",
    "labels = df.loc[:,'status'].values\n",
    "labels\n",
    "print (data)"
   ]
  },
  {
   "cell_type": "markdown",
   "metadata": {},
   "source": [
    "<h1>Count of Diagonsis</h1>"
   ]
  },
  {
   "cell_type": "code",
   "execution_count": null,
   "metadata": {},
   "outputs": [],
   "source": [
    "# print(labels[labels==1].shape[0], labels[labels==0].shape[0])\n",
    "df.groupby('status').size()\n",
    "\n"
   ]
  },
  {
   "cell_type": "markdown",
   "metadata": {},
   "source": [
    "<h1>Scale the Values to be between -1 and 1</h1>"
   ]
  },
  {
   "cell_type": "code",
   "execution_count": null,
   "metadata": {},
   "outputs": [],
   "source": [
    "scaler = MinMaxScaler((-1,1))\n",
    "x=scaler.fit_transform(data)\n",
    "y=labels\n",
    "\n",
    "\n"
   ]
  },
  {
   "cell_type": "markdown",
   "metadata": {},
   "source": [
    "<h1>Split the Data Set</h1>"
   ]
  },
  {
   "cell_type": "code",
   "execution_count": null,
   "metadata": {},
   "outputs": [],
   "source": [
    "x_train,x_test,y_train,y_test = train_test_split (x,y,test_size=0.10,random_state=7)"
   ]
  },
  {
   "cell_type": "markdown",
   "metadata": {},
   "source": [
    "<h1>Train the Model</h1>"
   ]
  },
  {
   "cell_type": "code",
   "execution_count": null,
   "metadata": {},
   "outputs": [],
   "source": [
    "parkinsons_model = XGBClassifier()\n",
    "history = parkinsons_model.fit(x_train,y_train)\n"
   ]
  },
  {
   "cell_type": "markdown",
   "metadata": {},
   "source": [
    "<h1>Prediciting using Test Data </h1>"
   ]
  },
  {
   "cell_type": "code",
   "execution_count": null,
   "metadata": {},
   "outputs": [],
   "source": [
    "y_test_Probablity = parkinsons_model.predict_proba(x_test)\n",
    "y_predict= parkinsons_model.predict(x_test)\n",
    "\n",
    "for i in range(len(x_test)):\n",
    "    print(\"X=%s, Predicted=%s, Decision=%s, Correct Diagonsis=%s\" % (x_test[i], y_test_Probablity[i],y_predict[i], y_test[i]))\n"
   ]
  },
  {
   "cell_type": "markdown",
   "metadata": {},
   "source": [
    "<h1>Accuracy</h1>"
   ]
  },
  {
   "cell_type": "code",
   "execution_count": null,
   "metadata": {},
   "outputs": [],
   "source": [
    "print (accuracy_score(y_test, y_predict)*100)\n",
    "\n",
    "    "
   ]
  },
  {
   "cell_type": "markdown",
   "metadata": {},
   "source": [
    "<h1>Comparing Diagnosis<h1>"
   ]
  },
  {
   "cell_type": "code",
   "execution_count": null,
   "metadata": {},
   "outputs": [],
   "source": [
    "columns = list(df.columns.values.tolist())\n",
    "#columns =columns[1:17].append(columns[18:23])\n",
    "columns.remove('status')\n",
    "columns.remove('name')\n",
    "\n",
    "new_data = pd.DataFrame(x_test,columns =columns, index = range(0,20))\n",
    "\n",
    "\n",
    "#new_data[\"Doctor Diagnosis\"] = y_test\n",
    "\n",
    "#new_data[\"Machine Diagonis\"]= y_predict\n",
    "\n",
    "new_data.insert(0,'Doctor Diagnosis',y_test)\n",
    "new_data.insert(1,'Machine Diagnosis',y_predict)\n",
    "new_data[['0 PRB','1 PRB']]=pd.DataFrame(y_test_Probablity)\n",
    "\n",
    "df1 = new_data.pop('1 PRB')\n",
    "df2 = new_data.pop('0 PRB')\n",
    "\n",
    "new_data.insert(2,'1 PRB',df1)\n",
    "new_data.insert(3,'0 PRB',df2)\n",
    "\n",
    "new_data_visualized = new_data.style.format({\"1 PRB\":\"{:.2%}\",\"0 PRB\":\"{:.2%}\"})\n",
    "new_data_visualized\n",
    "\n"
   ]
  },
  {
   "cell_type": "markdown",
   "metadata": {},
   "source": [
    "<h1>Discrepancy Data</h1>"
   ]
  },
  {
   "cell_type": "code",
   "execution_count": null,
   "metadata": {},
   "outputs": [],
   "source": [
    "discrepancy = new_data.loc[(new_data['Doctor Diagnosis'])!=(new_data['Machine Diagnosis'])]\n",
    "discrepancy"
   ]
  }
 ],
 "metadata": {
  "kernelspec": {
   "display_name": "Python 3",
   "language": "python",
   "name": "python3"
  },
  "language_info": {
   "codemirror_mode": {
    "name": "ipython",
    "version": 3
   },
   "file_extension": ".py",
   "mimetype": "text/x-python",
   "name": "python",
   "nbconvert_exporter": "python",
   "pygments_lexer": "ipython3",
   "version": "3.6.6"
  }
 },
 "nbformat": 4,
 "nbformat_minor": 4
}
